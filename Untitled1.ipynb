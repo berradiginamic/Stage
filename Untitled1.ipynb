{
 "cells": [
  {
   "cell_type": "code",
   "execution_count": null,
   "id": "e16ca871-64dd-4217-aa32-47d29e6985ca",
   "metadata": {},
   "outputs": [],
   "source": [
    "import os\n",
    "import cv2\n",
    "import numpy as np\n",
    "\n",
    "def perform_ela(image_path, scale=10, quality=90):\n",
    "    \"\"\"\n",
    "    Performs Error Level Analysis (ELA) on the given image.\n",
    "\n",
    "    Args:\n",
    "    image_path (str): Path to the input image.\n",
    "    scale (int): Scale factor for the ELA. Default is 10.\n",
    "    quality (int): JPEG quality for saving the temporary image. Default is 90.\n",
    "\n",
    "    Returns:\n",
    "    np.array: ELA image as numpy array.\n",
    "    \"\"\"\n",
    "    original_image = cv2.imread(image_path)\n",
    "    cv2.imwrite(\"temp.jpg\", original_image, [cv2.IMWRITE_JPEG_QUALITY, quality])\n",
    "    temporary_image = cv2.imread(\"temp.jpg\")\n",
    "    ela_image = cv2.absdiff(original_image, temporary_image)\n",
    "    ela_image = np.float32(ela_image)\n",
    "    ela_image = cv2.cvtColor(ela_image, cv2.COLOR_BGR2GRAY)\n",
    "    return cv2.normalize(ela_image, None, 0, 255, cv2.NORM_MINMAX)\n",
    "\n",
    "# Chemin du dossier contenant les images\n",
    "folder_path = r\"C:\\Users\\berra\\Desktop\\Stage\\images_extraits_suspects\"\n",
    "# Liste des noms de fichiers d'images dans le dossier\n",
    "image_files = os.listdir(folder_path)\n",
    "\n",
    "# Parcourir chaque fichier d'image\n",
    "for image_file in image_files:\n",
    "    # Chemin complet de l'image\n",
    "    image_path = os.path.join(folder_path, image_file)\n",
    "    # Effectuer ELA sur l'image\n",
    "    ela_image = perform_ela(image_path)\n",
    "    # Afficher l'image ELA\n",
    "    cv2.imshow(\"ELA Image - \" + image_file, ela_image)\n",
    "\n",
    "# Attendre une touche et fermer les fenêtres\n",
    "cv2.waitKey(0)\n",
    "cv2.destroyAllWindows()"
   ]
  }
 ],
 "metadata": {
  "kernelspec": {
   "display_name": "Python 3 (ipykernel)",
   "language": "python",
   "name": "python3"
  },
  "language_info": {
   "codemirror_mode": {
    "name": "ipython",
    "version": 3
   },
   "file_extension": ".py",
   "mimetype": "text/x-python",
   "name": "python",
   "nbconvert_exporter": "python",
   "pygments_lexer": "ipython3",
   "version": "3.12.2"
  }
 },
 "nbformat": 4,
 "nbformat_minor": 5
}
