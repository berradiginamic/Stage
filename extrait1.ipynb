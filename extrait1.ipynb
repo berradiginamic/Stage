{
 "cells": [
  {
   "cell_type": "code",
   "execution_count": 1,
   "id": "38a83de8-4e5f-4ee6-913c-f59579cdf3bf",
   "metadata": {},
   "outputs": [
    {
     "name": "stdout",
     "output_type": "stream",
     "text": [
      "Collecting pdf2imageNote: you may need to restart the kernel to use updated packages.\n",
      "\n",
      "  Downloading pdf2image-1.17.0-py3-none-any.whl.metadata (6.2 kB)\n",
      "Requirement already satisfied: pillow in c:\\users\\berra\\appdata\\local\\programs\\python\\python312\\lib\\site-packages (from pdf2image) (10.2.0)\n",
      "Downloading pdf2image-1.17.0-py3-none-any.whl (11 kB)\n",
      "Installing collected packages: pdf2image\n",
      "Successfully installed pdf2image-1.17.0\n"
     ]
    }
   ],
   "source": [
    "pip install pdf2image"
   ]
  },
  {
   "cell_type": "code",
   "execution_count": 4,
   "id": "e004686c-db79-4a21-87b2-c1e334ad6a87",
   "metadata": {},
   "outputs": [
    {
     "name": "stdout",
     "output_type": "stream",
     "text": [
      "Requirement already satisfied: opencv-python in c:\\users\\berra\\appdata\\local\\programs\\python\\python312\\lib\\site-packages (4.9.0.80)\n",
      "Requirement already satisfied: numpy>=1.21.2 in c:\\users\\berra\\appdata\\local\\programs\\python\\python312\\lib\\site-packages (from opencv-python) (1.26.4)\n",
      "Note: you may need to restart the kernel to use updated packages.\n"
     ]
    }
   ],
   "source": [
    "pip install opencv-python"
   ]
  },
  {
   "cell_type": "code",
   "execution_count": 11,
   "id": "4efa8ba8-6367-4605-8735-e55f7a63a3b3",
   "metadata": {},
   "outputs": [
    {
     "name": "stdout",
     "output_type": "stream",
     "text": [
      "Image 1 du fichier C:\\Users\\berra\\Desktop\\Stage\\extrait_suspects\\birth_act (1).pdf sauvegardée sous C:\\Users\\berra\\Desktop\\Stage\\images_extraits_suspects\\birth_act (1)_1.jpg\n",
      "Image 1 du fichier C:\\Users\\berra\\Desktop\\Stage\\extrait_suspects\\birth_act (2).pdf sauvegardée sous C:\\Users\\berra\\Desktop\\Stage\\images_extraits_suspects\\birth_act (2)_1.jpg\n",
      "Image 1 du fichier C:\\Users\\berra\\Desktop\\Stage\\extrait_suspects\\birth_act (3).pdf sauvegardée sous C:\\Users\\berra\\Desktop\\Stage\\images_extraits_suspects\\birth_act (3)_1.jpg\n",
      "Image 1 du fichier C:\\Users\\berra\\Desktop\\Stage\\extrait_suspects\\birth_act (4).pdf sauvegardée sous C:\\Users\\berra\\Desktop\\Stage\\images_extraits_suspects\\birth_act (4)_1.jpg\n",
      "Image 1 du fichier C:\\Users\\berra\\Desktop\\Stage\\extrait_suspects\\birth_act (5).pdf sauvegardée sous C:\\Users\\berra\\Desktop\\Stage\\images_extraits_suspects\\birth_act (5)_1.jpg\n",
      "Image 1 du fichier C:\\Users\\berra\\Desktop\\Stage\\extrait_suspects\\birth_act (6).pdf sauvegardée sous C:\\Users\\berra\\Desktop\\Stage\\images_extraits_suspects\\birth_act (6)_1.jpg\n",
      "Image 1 du fichier C:\\Users\\berra\\Desktop\\Stage\\extrait_suspects\\birth_act (7).pdf sauvegardée sous C:\\Users\\berra\\Desktop\\Stage\\images_extraits_suspects\\birth_act (7)_1.jpg\n",
      "Image 1 du fichier C:\\Users\\berra\\Desktop\\Stage\\extrait_suspects\\birth_act (8).pdf sauvegardée sous C:\\Users\\berra\\Desktop\\Stage\\images_extraits_suspects\\birth_act (8)_1.jpg\n",
      "Image 1 du fichier C:\\Users\\berra\\Desktop\\Stage\\extrait_suspects\\birth_act (9).pdf sauvegardée sous C:\\Users\\berra\\Desktop\\Stage\\images_extraits_suspects\\birth_act (9)_1.jpg\n"
     ]
    }
   ],
   "source": [
    "from pdf2image import convert_from_path\n",
    "import os\n",
    "\n",
    "# Chemin vers le dossier contenant les fichiers PDF\n",
    "dossier_pdf = \"C:\\\\Users\\\\berra\\\\Desktop\\\\Stage\\\\extrait_suspects\"\n",
    "\n",
    "# Liste des chemins complets des fichiers PDF dans le dossier\n",
    "chemins_pdf = [os.path.join(dossier_pdf, nom_fichier) for nom_fichier in os.listdir(dossier_pdf) if nom_fichier.endswith('.pdf')]\n",
    "\n",
    "# Créer un dossier pour stocker les images extraites\n",
    "dossier_images = \"C:\\\\Users\\\\berra\\\\Desktop\\\\Stage\\\\images_extraits_suspects\"\n",
    "os.makedirs(dossier_images, exist_ok=True)\n",
    "\n",
    "# Parcourir les fichiers PDF\n",
    "for chemin_pdf in chemins_pdf:\n",
    "    # Convertir le PDF en une liste d'images\n",
    "    images = convert_from_path(chemin_pdf)\n",
    "\n",
    "    # Parcourir les images\n",
    "    for i, image in enumerate(images):\n",
    "        # Sauvegarder chaque image dans le dossier des images extraites\n",
    "        nom_image = f\"{os.path.splitext(os.path.basename(chemin_pdf))[0]}_{i+1}.jpg\"\n",
    "        chemin_image = os.path.join(dossier_images, nom_image)\n",
    "        image.save(chemin_image, \"JPEG\")\n",
    "        print(f\"Image {i+1} du fichier {chemin_pdf} sauvegardée sous {chemin_image}\")"
   ]
  },
  {
   "cell_type": "code",
   "execution_count": 14,
   "id": "66f431b5-697c-430e-91e8-41445e671b36",
   "metadata": {},
   "outputs": [
    {
     "name": "stdout",
     "output_type": "stream",
     "text": [
      "Résultats pour les cachets :\n",
      "Le cachet dans birth_act (1)_1.jpg est authentique.\n",
      "Le cachet dans birth_act (2)_1.jpg est authentique.\n",
      "Le cachet dans birth_act (2)_11.jpg est suspect.\n",
      "Le cachet dans birth_act (3)_1.jpg est authentique.\n",
      "Le cachet dans birth_act (4)_1.jpg est authentique.\n",
      "Le cachet dans birth_act (5)_1.jpg est suspect.\n",
      "Le cachet dans birth_act (5)_11.jpg est suspect.\n",
      "Le cachet dans birth_act (6)_1.jpg est suspect.\n",
      "Le cachet dans birth_act (7)_1.jpg est authentique.\n",
      "Le cachet dans birth_act (8)_1.jpg est authentique.\n",
      "Le cachet dans birth_act (9)_1.jpg est authentique.\n",
      "Le cachet dans birth_act (9)_11.jpg est authentique.\n",
      "\n",
      "Résultats pour les signatures :\n",
      "La signature dans birth_act (1)_1.jpg est authentique.\n",
      "La signature dans birth_act (2)_1.jpg est authentique.\n",
      "La signature dans birth_act (2)_11.jpg est suspecte.\n",
      "La signature dans birth_act (3)_1.jpg est authentique.\n",
      "La signature dans birth_act (4)_1.jpg est authentique.\n",
      "La signature dans birth_act (5)_1.jpg est suspecte.\n",
      "La signature dans birth_act (5)_11.jpg est suspecte.\n",
      "La signature dans birth_act (6)_1.jpg est suspecte.\n",
      "La signature dans birth_act (7)_1.jpg est authentique.\n",
      "La signature dans birth_act (8)_1.jpg est authentique.\n",
      "La signature dans birth_act (9)_1.jpg est authentique.\n",
      "La signature dans birth_act (9)_11.jpg est authentique.\n"
     ]
    }
   ],
   "source": [
    "import os\n",
    "import cv2\n",
    "import numpy as np\n",
    "from sklearn.cluster import KMeans\n",
    "\n",
    "def extract_features(image):\n",
    "    gray = cv2.cvtColor(image, cv2.COLOR_BGR2GRAY)\n",
    "    sift = cv2.SIFT_create()\n",
    "    keypoints, descriptors = sift.detectAndCompute(gray, None)\n",
    "    return descriptors\n",
    "\n",
    "def redimensionner_caracteristiques(caracteristiques, longueur_cible):\n",
    "    if caracteristiques.shape[0] < longueur_cible:\n",
    "        caracteristiques = np.concatenate([caracteristiques, np.zeros((longueur_cible - caracteristiques.shape[0], 128))])\n",
    "    elif caracteristiques.shape[0] > longueur_cible:\n",
    "        caracteristiques = caracteristiques[:longueur_cible]\n",
    "    return caracteristiques\n",
    "\n",
    "# Définir une longueur cible pour les caractéristiques\n",
    "longueur_cible = 500\n",
    "\n",
    "# Initialiser le modèle KMeans\n",
    "kmeans = KMeans(n_clusters=2)\n",
    "\n",
    "# Chemin vers les fichiers des images extraites\n",
    "chemin_images_cachets_suspects = \"C:\\\\Users\\\\berra\\\\Desktop\\\\Stage\\\\images_extraits_suspects\"\n",
    "chemin_images_signatures_suspects = \"C:\\\\Users\\\\berra\\\\Desktop\\\\Stage\\\\images_extraits_suspects\"\n",
    "\n",
    "# Liste des caractéristiques des cachets suspects\n",
    "caracteristiques_cachets_suspects = []\n",
    "\n",
    "# Liste des caractéristiques des signatures suspects\n",
    "caracteristiques_signatures_suspects = []\n",
    "\n",
    "# Parcourir les images des cachets suspects\n",
    "for fichier in os.listdir(chemin_images_cachets_suspects):\n",
    "    chemin_image = os.path.join(chemin_images_cachets_suspects, fichier)\n",
    "    image = cv2.imread(chemin_image)\n",
    "    caracteristiques = extract_features(image)\n",
    "    caracteristiques = redimensionner_caracteristiques(caracteristiques, longueur_cible)\n",
    "    caracteristiques_cachets_suspects.append(caracteristiques.flatten())  \n",
    "\n",
    "# Parcourir les images des signatures suspects\n",
    "for fichier in os.listdir(chemin_images_signatures_suspects):\n",
    "    chemin_image = os.path.join(chemin_images_signatures_suspects, fichier)\n",
    "    image = cv2.imread(chemin_image)\n",
    "    caracteristiques = extract_features(image)\n",
    "    caracteristiques = redimensionner_caracteristiques(caracteristiques, longueur_cible)\n",
    "    caracteristiques_signatures_suspects.append(caracteristiques.flatten())  \n",
    "\n",
    "# Convertir les listes en tableaux numpy\n",
    "caracteristiques_cachets_suspects = np.array(caracteristiques_cachets_suspects)\n",
    "caracteristiques_signatures_suspects = np.array(caracteristiques_signatures_suspects)\n",
    "\n",
    "# Combinez les caractéristiques de cachets et de signatures en un seul tableau pour chaque catégorie\n",
    "caracteristiques_combines_cachets_signatures = np.concatenate((caracteristiques_cachets_suspects, caracteristiques_signatures_suspects), axis=0)\n",
    "\n",
    "# Entraîner le modèle KMeans sur l'ensemble combiné de caractéristiques\n",
    "kmeans.fit(caracteristiques_combines_cachets_signatures)\n",
    "\n",
    "# Prédire les clusters pour les cachets et les signatures\n",
    "etiquettes_clusters_cachets = kmeans.predict(caracteristiques_cachets_suspects)\n",
    "etiquettes_clusters_signatures = kmeans.predict(caracteristiques_signatures_suspects)\n",
    "\n",
    "# Afficher les résultats pour les cachets\n",
    "print(\"Résultats pour les cachets :\")\n",
    "for i, fichier in enumerate(os.listdir(chemin_images_cachets_suspects)):\n",
    "    if etiquettes_clusters_cachets[i] == 0:\n",
    "        print(f\"Le cachet dans {fichier} est authentique.\")\n",
    "    else:\n",
    "        print(f\"Le cachet dans {fichier} est suspect.\")\n",
    "\n",
    "# Afficher les résultats pour les signatures\n",
    "print(\"\\nRésultats pour les signatures :\")\n",
    "for i, fichier in enumerate(os.listdir(chemin_images_signatures_suspects)):\n",
    "    if etiquettes_clusters_signatures[i] == 0:\n",
    "        print(f\"La signature dans {fichier} est authentique.\")\n",
    "    else:\n",
    "        print(f\"La signature dans {fichier} est suspecte.\")"
   ]
  },
  {
   "cell_type": "code",
   "execution_count": null,
   "id": "c7372382-b99a-427d-a477-a07773c942ca",
   "metadata": {},
   "outputs": [],
   "source": []
  }
 ],
 "metadata": {
  "kernelspec": {
   "display_name": "Python 3 (ipykernel)",
   "language": "python",
   "name": "python3"
  },
  "language_info": {
   "codemirror_mode": {
    "name": "ipython",
    "version": 3
   },
   "file_extension": ".py",
   "mimetype": "text/x-python",
   "name": "python",
   "nbconvert_exporter": "python",
   "pygments_lexer": "ipython3",
   "version": "3.12.2"
  }
 },
 "nbformat": 4,
 "nbformat_minor": 5
}
